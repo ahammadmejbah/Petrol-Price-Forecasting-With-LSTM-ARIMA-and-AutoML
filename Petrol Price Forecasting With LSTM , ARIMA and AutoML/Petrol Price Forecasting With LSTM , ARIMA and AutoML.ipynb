{
 "cells": [
  {
   "attachments": {},
   "cell_type": "markdown",
   "id": "W7G9brFaBKTd",
   "metadata": {
    "id": "W7G9brFaBKTd"
   },
   "source": [
    "# Petrol Price Forecasting"
   ]
  },
  {
   "attachments": {},
   "cell_type": "markdown",
   "id": "312f030f",
   "metadata": {},
   "source": [
    "#### Dataset Description:\n",
    "\n",
    "ONGCF is an organization that works in the oil and natural gas industries. There is information accessible on the pricing on a weekly basis. It intends to make a forecast on the price of crude oil for the subsequent 16 months, beginning on January 1, 2019, and continuing through April 2020. Create a price forecast using the most effective model available according to your preferences. Check for any extreme values or values that are missing.\n",
    "\n",
    "Train.training data and a submission example are both accessible in csv format. The format of the file that must be uploaded is specified as csv.\n",
    "\n",
    "In this particular instance, we will be judging the quality of your work based on the MAPE assessment criteria. Within the first one hundred eighty minutes of the exam, you are required to hand in the submission. Posted applications that won't be considered for acceptance. A maximum of 20 contributions may be submitted."
   ]
  },
  {
   "attachments": {},
   "cell_type": "markdown",
   "id": "NeopOmsXCbpT",
   "metadata": {
    "id": "NeopOmsXCbpT"
   },
   "source": [
    "## TimeLine of the project:\n",
    "- Data Analysis\n",
    "- Model Construction and Predictions Utilizing Machine Learning Techniques\n",
    "- Model Construction and Prediction Employing Auto Keras (Auto ML)\n"
   ]
  },
  {
   "attachments": {},
   "cell_type": "markdown",
   "id": "QLg5ZonYCxh7",
   "metadata": {
    "id": "QLg5ZonYCxh7"
   },
   "source": [
    "**Importing Libraries**"
   ]
  },
  {
   "cell_type": "code",
   "execution_count": 1,
   "id": "e315f51b",
   "metadata": {
    "id": "e315f51b"
   },
   "outputs": [],
   "source": [
    "import pandas as pd\n",
    "import numpy as np\n",
    "from matplotlib import pyplot as plt\n",
    "%matplotlib inline\n",
    "import matplotlib "
   ]
  },
  {
   "cell_type": "code",
   "execution_count": 2,
   "id": "23e09038",
   "metadata": {
    "id": "23e09038"
   },
   "outputs": [
    {
     "data": {
      "text/html": [
       "<div>\n",
       "<style scoped>\n",
       "    .dataframe tbody tr th:only-of-type {\n",
       "        vertical-align: middle;\n",
       "    }\n",
       "\n",
       "    .dataframe tbody tr th {\n",
       "        vertical-align: top;\n",
       "    }\n",
       "\n",
       "    .dataframe thead th {\n",
       "        text-align: right;\n",
       "    }\n",
       "</style>\n",
       "<table border=\"1\" class=\"dataframe\">\n",
       "  <thead>\n",
       "    <tr style=\"text-align: right;\">\n",
       "      <th></th>\n",
       "      <th>Date</th>\n",
       "      <th>Petrol (USD)</th>\n",
       "    </tr>\n",
       "  </thead>\n",
       "  <tbody>\n",
       "    <tr>\n",
       "      <th>0</th>\n",
       "      <td>6/9/2003</td>\n",
       "      <td>74.59</td>\n",
       "    </tr>\n",
       "    <tr>\n",
       "      <th>1</th>\n",
       "      <td>6/16/2003</td>\n",
       "      <td>74.47</td>\n",
       "    </tr>\n",
       "    <tr>\n",
       "      <th>2</th>\n",
       "      <td>6/23/2003</td>\n",
       "      <td>74.42</td>\n",
       "    </tr>\n",
       "    <tr>\n",
       "      <th>3</th>\n",
       "      <td>6/30/2003</td>\n",
       "      <td>74.35</td>\n",
       "    </tr>\n",
       "    <tr>\n",
       "      <th>4</th>\n",
       "      <td>7/7/2003</td>\n",
       "      <td>74.28</td>\n",
       "    </tr>\n",
       "  </tbody>\n",
       "</table>\n",
       "</div>"
      ],
      "text/plain": [
       "        Date  Petrol (USD)\n",
       "0   6/9/2003         74.59\n",
       "1  6/16/2003         74.47\n",
       "2  6/23/2003         74.42\n",
       "3  6/30/2003         74.35\n",
       "4   7/7/2003         74.28"
      ]
     },
     "execution_count": 2,
     "metadata": {},
     "output_type": "execute_result"
    }
   ],
   "source": [
    "df1 = pd.read_csv(\"train_data.csv\")\n",
    "df1.head()"
   ]
  },
  {
   "attachments": {},
   "cell_type": "markdown",
   "id": "E7SE4p_WHk-v",
   "metadata": {
    "id": "E7SE4p_WHk-v"
   },
   "source": [
    "**Data Analysis and splitting the data**"
   ]
  },
  {
   "cell_type": "code",
   "execution_count": 3,
   "id": "yRE7X5FfSeqt",
   "metadata": {
    "id": "yRE7X5FfSeqt"
   },
   "outputs": [
    {
     "data": {
      "text/plain": [
       "Date            0\n",
       "Petrol (USD)    2\n",
       "dtype: int64"
      ]
     },
     "execution_count": 3,
     "metadata": {},
     "output_type": "execute_result"
    }
   ],
   "source": [
    "df1.head()\n",
    "df1.isnull().sum()"
   ]
  },
  {
   "cell_type": "code",
   "execution_count": 4,
   "id": "ffb74343",
   "metadata": {
    "id": "ffb74343"
   },
   "outputs": [],
   "source": [
    "df2 = df1.dropna()"
   ]
  },
  {
   "cell_type": "code",
   "execution_count": 3,
   "id": "e6c0da0d",
   "metadata": {
    "id": "e6c0da0d"
   },
   "outputs": [],
   "source": [
    "df2.rename(columns={\"Petrol (USD)\": \"Petrol\"}, inplace = True)\n",
    "df2.head()"
   ]
  },
  {
   "cell_type": "code",
   "execution_count": 6,
   "id": "hqggRBHHN0QI",
   "metadata": {
    "id": "hqggRBHHN0QI"
   },
   "outputs": [
    {
     "data": {
      "text/plain": [
       "<matplotlib.collections.PathCollection at 0x1c1443493a0>"
      ]
     },
     "execution_count": 6,
     "metadata": {},
     "output_type": "execute_result"
    },
    {
     "data": {
      "image/png": "[encoded data removed]",
      "text/plain": [
       "<Figure size 640x480 with 1 Axes>"
      ]
     },
     "metadata": {},
     "output_type": "display_data"
    }
   ],
   "source": [
    "plt.scatter(df2.Date, df2.Petrol,color='red',label='Prices', s=50)"
   ]
  },
  {
   "cell_type": "code",
   "execution_count": 7,
   "id": "538544df",
   "metadata": {
    "id": "538544df"
   },
   "outputs": [
    {
     "data": {
      "text/plain": [
       "<matplotlib.collections.PathCollection at 0x1c14425b6d0>"
      ]
     },
     "execution_count": 7,
     "metadata": {},
     "output_type": "execute_result"
    },
    {
     "data": {
      "image/png": "[encoded data removed]",
      "text/plain": [
       "<Figure size 640x480 with 1 Axes>"
      ]
     },
     "metadata": {},
     "output_type": "display_data"
    }
   ],
   "source": [
    "df3=df2[df2.Petrol<160]\n",
    "plt.scatter(df3.Date, df3.Petrol,color='blue',label='Prices', s=50)\n"
   ]
  },
  {
   "cell_type": "code",
   "execution_count": 8,
   "id": "3670d115",
   "metadata": {
    "id": "3670d115"
   },
   "outputs": [
    {
     "data": {
      "text/plain": [
       "0    74.59\n",
       "1    74.47\n",
       "2    74.42\n",
       "3    74.35\n",
       "4    74.28\n",
       "Name: Petrol, dtype: float64"
      ]
     },
     "execution_count": 8,
     "metadata": {},
     "output_type": "execute_result"
    }
   ],
   "source": [
    "df4=df3.reset_index()['Petrol']\n",
    "df4.head()"
   ]
  },
  {
   "cell_type": "code",
   "execution_count": 9,
   "id": "2d8aa241",
   "metadata": {
    "id": "2d8aa241"
   },
   "outputs": [],
   "source": [
    "from sklearn.preprocessing import MinMaxScaler\n",
    "scaler=MinMaxScaler(feature_range=(0,1))\n",
    "df4=scaler.fit_transform(np.array(df4).reshape(-1,1))"
   ]
  },
  {
   "cell_type": "code",
   "execution_count": 10,
   "id": "B713sYwzOf-r",
   "metadata": {
    "id": "B713sYwzOf-r"
   },
   "outputs": [
    {
     "data": {
      "text/plain": [
       "array([[0.00559152],\n",
       "       [0.00382578],\n",
       "       [0.00309005],\n",
       "       [0.00206004],\n",
       "       [0.00103002],\n",
       "       [0.        ],\n",
       "       [0.0126545 ],\n",
       "       [0.01309594],\n",
       "       [0.01339023],\n",
       "       [0.01809888],\n",
       "       [0.02354326],\n",
       "       [0.02707475],\n",
       "       [0.02825191],\n",
       "       [0.02972337],\n",
       "       [0.02928193],\n",
       "       [0.0285462 ],\n",
       "       [0.02751619],\n",
       "       [0.03266627],\n",
       "       [0.02486757],\n",
       "       [0.02707475],\n",
       "       [0.02633902],\n",
       "       [0.02633902],\n",
       "       [0.02545615],\n",
       "       [0.02530901],\n",
       "       [0.02663331],\n",
       "       [0.02633902],\n",
       "       [0.02589759],\n",
       "       [0.02575044],\n",
       "       [0.02516186],\n",
       "       [0.02545615],\n",
       "       [0.02457328],\n",
       "       [0.02486757],\n",
       "       [0.03163626],\n",
       "       [0.03281342],\n",
       "       [0.033402  ],\n",
       "       [0.03369629],\n",
       "       [0.03281342],\n",
       "       [0.03193055],\n",
       "       [0.03104768],\n",
       "       [0.03708064],\n",
       "       [0.04679223],\n",
       "       [0.04752796],\n",
       "       [0.04973514],\n",
       "       [0.05370806],\n",
       "       [0.05400235],\n",
       "       [0.05635668],\n",
       "       [0.06165391],\n",
       "       [0.07460271],\n",
       "       [0.08961154],\n",
       "       [0.10712184],\n",
       "       [0.11653914],\n",
       "       [0.11977634],\n",
       "       [0.12110065],\n",
       "       [0.10785756],\n",
       "       [0.10050029],\n",
       "       [0.09123014],\n",
       "       [0.08328428],\n",
       "       [0.09020012],\n",
       "       [0.09755739],\n",
       "       [0.09799882],\n",
       "       [0.09785168],\n",
       "       [0.10256033],\n",
       "       [0.10359035],\n",
       "       [0.10741613],\n",
       "       [0.10771042],\n",
       "       [0.10535609],\n",
       "       [0.10447322],\n",
       "       [0.10403178],\n",
       "       [0.10918187],\n",
       "       [0.11536198],\n",
       "       [0.13095939],\n",
       "       [0.13449088],\n",
       "       [0.14317245],\n",
       "       [0.14802825],\n",
       "       [0.14905827],\n",
       "       [0.14788111],\n",
       "       [0.1066804 ],\n",
       "       [0.1465568 ],\n",
       "       [0.1449382 ],\n",
       "       [0.1066804 ],\n",
       "       [0.10285462],\n",
       "       [0.10241318],\n",
       "       [0.08284285],\n",
       "       [0.06945262],\n",
       "       [0.06945262],\n",
       "       [0.07842849],\n",
       "       [0.08284285],\n",
       "       [0.08563861],\n",
       "       [0.08740436],\n",
       "       [0.09181872],\n",
       "       [0.10226604],\n",
       "       [0.10932902],\n",
       "       [0.12492643],\n",
       "       [0.1352266 ],\n",
       "       [0.14273102],\n",
       "       [0.16774573],\n",
       "       [0.16804002],\n",
       "       [0.16627428],\n",
       "       [0.16524426],\n",
       "       [0.1640671 ],\n",
       "       [0.16274279],\n",
       "       [0.15538552],\n",
       "       [0.14670394],\n",
       "       [0.14420247],\n",
       "       [0.15862272],\n",
       "       [0.16642142],\n",
       "       [0.18422602],\n",
       "       [0.19540906],\n",
       "       [0.19894055],\n",
       "       [0.21100647],\n",
       "       [0.21762802],\n",
       "       [0.22130665],\n",
       "       [0.22748676],\n",
       "       [0.2405827 ],\n",
       "       [0.24367275],\n",
       "       [0.2532372 ],\n",
       "       [0.29664509],\n",
       "       [0.30694526],\n",
       "       [0.29723367],\n",
       "       [0.28134197],\n",
       "       [0.28399058],\n",
       "       [0.29487934],\n",
       "       [0.29326074],\n",
       "       [0.283402  ],\n",
       "       [0.26868746],\n",
       "       [0.24014126],\n",
       "       [0.21188935],\n",
       "       [0.19334903],\n",
       "       [0.19334903],\n",
       "       [0.19114185],\n",
       "       [0.19643908],\n",
       "       [0.20114773],\n",
       "       [0.20335491],\n",
       "       [0.21115362],\n",
       "       [0.21777516],\n",
       "       [0.22572101],\n",
       "       [0.23057681],\n",
       "       [0.22836963],\n",
       "       [0.22719247],\n",
       "       [0.22645674],\n",
       "       [0.2230724 ],\n",
       "       [0.22572101],\n",
       "       [0.23513832],\n",
       "       [0.24941142],\n",
       "       [0.25853443],\n",
       "       [0.27310182],\n",
       "       [0.29458505],\n",
       "       [0.31106533],\n",
       "       [0.32254267],\n",
       "       [0.32739847],\n",
       "       [0.32636845],\n",
       "       [0.32210124],\n",
       "       [0.31121248],\n",
       "       [0.30944673],\n",
       "       [0.31312537],\n",
       "       [0.31238964],\n",
       "       [0.30547381],\n",
       "       [0.30988817],\n",
       "       [0.31606828],\n",
       "       [0.33357858],\n",
       "       [0.34682166],\n",
       "       [0.34755739],\n",
       "       [0.35079459],\n",
       "       [0.34741024],\n",
       "       [0.316804  ],\n",
       "       [0.29708652],\n",
       "       [0.27472042],\n",
       "       [0.25412007],\n",
       "       [0.22910536],\n",
       "       [0.20585639],\n",
       "       [0.18746321],\n",
       "       [0.18231313],\n",
       "       [0.17216009],\n",
       "       [0.16965862],\n",
       "       [0.16759859],\n",
       "       [0.16671572],\n",
       "       [0.16597999],\n",
       "       [0.1656857 ],\n",
       "       [0.16553855],\n",
       "       [0.19467334],\n",
       "       [0.19849912],\n",
       "       [0.20144202],\n",
       "       [0.2007063 ],\n",
       "       [0.19791054],\n",
       "       [0.18967039],\n",
       "       [0.17760447],\n",
       "       [0.16848146],\n",
       "       [0.16789288],\n",
       "       [0.17525015],\n",
       "       [0.18231313],\n",
       "       [0.18922896],\n",
       "       [0.1990877 ],\n",
       "       [0.20997646],\n",
       "       [0.216598  ],\n",
       "       [0.22233667],\n",
       "       [0.23925839],\n",
       "       [0.24970571],\n",
       "       [0.26162448],\n",
       "       [0.27545615],\n",
       "       [0.28310771],\n",
       "       [0.29752796],\n",
       "       [0.30694526],\n",
       "       [0.31636257],\n",
       "       [0.32298411],\n",
       "       [0.3281342 ],\n",
       "       [0.32960565],\n",
       "       [0.32886992],\n",
       "       [0.32857563],\n",
       "       [0.32592702],\n",
       "       [0.32357269],\n",
       "       [0.32371984],\n",
       "       [0.32401413],\n",
       "       [0.32357269],\n",
       "       [0.32283696],\n",
       "       [0.32062978],\n",
       "       [0.31047675],\n",
       "       [0.30591524],\n",
       "       [0.30297234],\n",
       "       [0.30047087],\n",
       "       [0.30076516],\n",
       "       [0.30459094],\n",
       "       [0.32636845],\n",
       "       [0.33740436],\n",
       "       [0.33814008],\n",
       "       [0.3472631 ],\n",
       "       [0.35388464],\n",
       "       [0.37007063],\n",
       "       [0.39037669],\n",
       "       [0.4011183 ],\n",
       "       [0.4108299 ],\n",
       "       [0.41745144],\n",
       "       [0.41877575],\n",
       "       [0.41774573],\n",
       "       [0.41671572],\n",
       "       [0.41862861],\n",
       "       [0.42907593],\n",
       "       [0.43569747],\n",
       "       [0.44158328],\n",
       "       [0.44158328],\n",
       "       [0.43878752],\n",
       "       [0.43349029],\n",
       "       [0.43393172],\n",
       "       [0.44791054],\n",
       "       [0.45659211],\n",
       "       [0.46718658],\n",
       "       [0.47380812],\n",
       "       [0.48101825],\n",
       "       [0.48396115],\n",
       "       [0.48602119],\n",
       "       [0.49146557],\n",
       "       [0.50559152],\n",
       "       [0.51927604],\n",
       "       [0.53104768],\n",
       "       [0.54193643],\n",
       "       [0.57018835],\n",
       "       [0.59711595],\n",
       "       [0.61536198],\n",
       "       [0.62757504],\n",
       "       [0.63978811],\n",
       "       [0.65082401],\n",
       "       [0.65670983],\n",
       "       [0.66318423],\n",
       "       [0.66553855],\n",
       "       [0.66494997],\n",
       "       [0.62831077],\n",
       "       [0.60108888],\n",
       "       [0.5843143 ],\n",
       "       [0.55929959],\n",
       "       [0.55635668],\n",
       "       [0.5590053 ],\n",
       "       [0.56415539],\n",
       "       [0.5635668 ],\n",
       "       [0.53855209],\n",
       "       [0.52442613],\n",
       "       [0.51854032],\n",
       "       [0.48307828],\n",
       "       [0.41862861],\n",
       "       [0.35918187],\n",
       "       [0.34123014],\n",
       "       [0.31901118],\n",
       "       [0.30341377],\n",
       "       [0.27339612],\n",
       "       [0.25397293],\n",
       "       [0.23469688],\n",
       "       [0.21865803],\n",
       "       [0.20306062],\n",
       "       [0.19320188],\n",
       "       [0.16494997],\n",
       "       [0.17377869],\n",
       "       [0.17628016],\n",
       "       [0.19437905],\n",
       "       [0.2052678 ],\n",
       "       [0.22174809],\n",
       "       [0.2341083 ],\n",
       "       [0.23719835],\n",
       "       [0.23646263],\n",
       "       [0.23454974],\n",
       "       [0.23469688],\n",
       "       [0.23469688],\n",
       "       [0.25220718],\n",
       "       [0.28708064],\n",
       "       [0.29281931],\n",
       "       [0.30032372],\n",
       "       [0.30782813],\n",
       "       [0.31474397],\n",
       "       [0.32931136],\n",
       "       [0.34329017],\n",
       "       [0.36330194],\n",
       "       [0.37051207],\n",
       "       [0.38816951],\n",
       "       [0.40862272],\n",
       "       [0.42083579],\n",
       "       [0.42804591],\n",
       "       [0.43201883],\n",
       "       [0.42039435],\n",
       "       [0.41215421],\n",
       "       [0.41141848],\n",
       "       [0.41421424],\n",
       "       [0.42377869],\n",
       "       [0.4377575 ],\n",
       "       [0.44864626],\n",
       "       [0.45467922],\n",
       "       [0.48028252],\n",
       "       [0.47410241],\n",
       "       [0.46718658],\n",
       "       [0.45953502],\n",
       "       [0.45114773],\n",
       "       [0.44879341],\n",
       "       [0.45423779],\n",
       "       [0.47895821],\n",
       "       [0.48881695],\n",
       "       [0.49867569],\n",
       "       [0.50426722],\n",
       "       [0.50794585],\n",
       "       [0.50882872],\n",
       "       [0.50662154],\n",
       "       [0.50456151],\n",
       "       [0.48940553],\n",
       "       [0.4889641 ],\n",
       "       [0.51692172],\n",
       "       [0.53722778],\n",
       "       [0.55017657],\n",
       "       [0.5541495 ],\n",
       "       [0.55473808],\n",
       "       [0.55532666],\n",
       "       [0.55444379],\n",
       "       [0.54958799],\n",
       "       [0.5622425 ],\n",
       "       [0.58122425],\n",
       "       [0.60697469],\n",
       "       [0.62360212],\n",
       "       [0.63375515],\n",
       "       [0.66333137],\n",
       "       [0.67289582],\n",
       "       [0.68187169],\n",
       "       [0.68834609],\n",
       "       [0.69114185],\n",
       "       [0.69305474],\n",
       "       [0.69290759],\n",
       "       [0.67274868],\n",
       "       [0.65229547],\n",
       "       [0.64729253],\n",
       "       [0.64243673],\n",
       "       [0.64140671],\n",
       "       [0.64258387],\n",
       "       [0.64302531],\n",
       "       [0.63537375],\n",
       "       [0.6274279 ],\n",
       "       [0.62389641],\n",
       "       [0.62242496],\n",
       "       [0.62007063],\n",
       "       [0.61992348],\n",
       "       [0.60962331],\n",
       "       [0.59991171],\n",
       "       [0.59417304],\n",
       "       [0.59520306],\n",
       "       [0.60108888],\n",
       "       [0.60594467],\n",
       "       [0.61506769],\n",
       "       [0.62639788],\n",
       "       [0.63375515],\n",
       "       [0.64052384],\n",
       "       [0.64699823],\n",
       "       [0.65420836],\n",
       "       [0.65612125],\n",
       "       [0.65891701],\n",
       "       [0.66215421],\n",
       "       [0.68172454],\n",
       "       [0.69849912],\n",
       "       [0.70776928],\n",
       "       [0.7243967 ],\n",
       "       [0.7451442 ],\n",
       "       [0.78266627],\n",
       "       [0.78958211],\n",
       "       [0.79664509],\n",
       "       [0.79958799],\n",
       "       [0.8009123 ],\n",
       "       [0.80223661],\n",
       "       [0.80503237],\n",
       "       [0.816804  ],\n",
       "       [0.83975868],\n",
       "       [0.85300177],\n",
       "       [0.86668629],\n",
       "       [0.85682755],\n",
       "       [0.86227192],\n",
       "       [0.87507357],\n",
       "       [0.89537964],\n",
       "       [0.90361978],\n",
       "       [0.91347852],\n",
       "       [0.92466157],\n",
       "       [0.91509712],\n",
       "       [0.9108299 ],\n",
       "       [0.90288405],\n",
       "       [0.90361978],\n",
       "       [0.90715127],\n",
       "       [0.90965274],\n",
       "       [0.89243673],\n",
       "       [0.87139494],\n",
       "       [0.88243084],\n",
       "       [0.89405533],\n",
       "       [0.90420836],\n",
       "       [0.91024132],\n",
       "       [0.91597999],\n",
       "       [0.90847557],\n",
       "       [0.88802237],\n",
       "       [0.88449088],\n",
       "       [0.88890524],\n",
       "       [0.89449676],\n",
       "       [0.90038258],\n",
       "       [0.90406121],\n",
       "       [0.89479105],\n",
       "       [0.88669806],\n",
       "       [0.88699235],\n",
       "       [0.88949382],\n",
       "       [0.89052384],\n",
       "       [0.88581519],\n",
       "       [0.87507357],\n",
       "       [0.87065921],\n",
       "       [0.86756916],\n",
       "       [0.86183049],\n",
       "       [0.85815185],\n",
       "       [0.85756327],\n",
       "       [0.85638611],\n",
       "       [0.85623896],\n",
       "       [0.86035903],\n",
       "       [0.8693349 ],\n",
       "       [0.87566215],\n",
       "       [0.88125368],\n",
       "       [0.88346086],\n",
       "       [0.89302531],\n",
       "       [0.89758682],\n",
       "       [0.91230135],\n",
       "       [0.9283402 ],\n",
       "       [0.93716892],\n",
       "       [0.95276633],\n",
       "       [0.96041789],\n",
       "       [0.98263685],\n",
       "       [0.99705709],\n",
       "       [1.        ],\n",
       "       [0.99396704],\n",
       "       [0.98278399],\n",
       "       [0.97012949],\n",
       "       [0.94290759],\n",
       "       [0.90582696],\n",
       "       [0.8852266 ],\n",
       "       [0.8806651 ],\n",
       "       [0.87492643],\n",
       "       [0.850206  ],\n",
       "       [0.84373161],\n",
       "       [0.82828134],\n",
       "       [0.83652148],\n",
       "       [0.84284873],\n",
       "       [0.8534432 ],\n",
       "       [0.86183049],\n",
       "       [0.87080636],\n",
       "       [0.88375515],\n",
       "       [0.90509123],\n",
       "       [0.92539729],\n",
       "       [0.93908181],\n",
       "       [0.95203061],\n",
       "       [0.95953502],\n",
       "       [0.96130077],\n",
       "       [0.94496763],\n",
       "       [0.94217187],\n",
       "       [0.94379046],\n",
       "       [0.94290759],\n",
       "       [0.92363155],\n",
       "       [0.91553855],\n",
       "       [0.89582107],\n",
       "       [0.88802237],\n",
       "       [0.88537375],\n",
       "       [0.86580341],\n",
       "       [0.85844614],\n",
       "       [0.85005886],\n",
       "       [0.84961742],\n",
       "       [0.84917599],\n",
       "       [0.84829311],\n",
       "       [0.85035315],\n",
       "       [0.8534432 ],\n",
       "       [0.86433196],\n",
       "       [0.88537375],\n",
       "       [0.9027369 ],\n",
       "       [0.9218658 ],\n",
       "       [0.94599765],\n",
       "       [0.96027075],\n",
       "       [0.96806945],\n",
       "       [0.93246027],\n",
       "       [0.92525015],\n",
       "       [0.9283402 ],\n",
       "       [0.92848735],\n",
       "       [0.92554444],\n",
       "       [0.90450265],\n",
       "       [0.88949382],\n",
       "       [0.87124779],\n",
       "       [0.86683343],\n",
       "       [0.86756916],\n",
       "       [0.87448499],\n",
       "       [0.88037081],\n",
       "       [0.88419659],\n",
       "       [0.88655091],\n",
       "       [0.88743378],\n",
       "       [0.87154208],\n",
       "       [0.87639788],\n",
       "       [0.89376104],\n",
       "       [0.90979988],\n",
       "       [0.92201295],\n",
       "       [0.92422013],\n",
       "       [0.92583873],\n",
       "       [0.92392584],\n",
       "       [0.92142437],\n",
       "       [0.92598587],\n",
       "       [0.93275456],\n",
       "       [0.93084167],\n",
       "       [0.92319011],\n",
       "       [0.8709535 ],\n",
       "       [0.84476162],\n",
       "       [0.84549735],\n",
       "       [0.84343732],\n",
       "       [0.84181872],\n",
       "       [0.81974691],\n",
       "       [0.81665686],\n",
       "       [0.81930547],\n",
       "       [0.82136551],\n",
       "       [0.82460271],\n",
       "       [0.83210712],\n",
       "       [0.83505003],\n",
       "       [0.8216598 ],\n",
       "       [0.82136551],\n",
       "       [0.82474985],\n",
       "       [0.82622131],\n",
       "       [0.81165391],\n",
       "       [0.80650383],\n",
       "       [0.80400235],\n",
       "       [0.80341377],\n",
       "       [0.80856386],\n",
       "       [0.80915244],\n",
       "       [0.81150677],\n",
       "       [0.8119482 ],\n",
       "       [0.80267805],\n",
       "       [0.79988228],\n",
       "       [0.80267805],\n",
       "       [0.80194232],\n",
       "       [0.80459094],\n",
       "       [0.80782813],\n",
       "       [0.80753384],\n",
       "       [0.81018246],\n",
       "       [0.8135668 ],\n",
       "       [0.81238964],\n",
       "       [0.81371395],\n",
       "       [0.81547969],\n",
       "       [0.81636257],\n",
       "       [0.81915833],\n",
       "       [0.82298411],\n",
       "       [0.8310771 ],\n",
       "       [0.83711006],\n",
       "       [0.83725721],\n",
       "       [0.83622719],\n",
       "       [0.83313714],\n",
       "       [0.81547969],\n",
       "       [0.8122425 ],\n",
       "       [0.81047675],\n",
       "       [0.79649794],\n",
       "       [0.79164214],\n",
       "       [0.79649794],\n",
       "       [0.79782225],\n",
       "       [0.80061801],\n",
       "       [0.80017657],\n",
       "       [0.77354326],\n",
       "       [0.76942319],\n",
       "       [0.7532372 ],\n",
       "       [0.74896998],\n",
       "       [0.73175397],\n",
       "       [0.71703943],\n",
       "       [0.71056504],\n",
       "       [0.70747499],\n",
       "       [0.69114185],\n",
       "       [0.67127722],\n",
       "       [0.6193349 ],\n",
       "       [0.58048852],\n",
       "       [0.57313125],\n",
       "       [0.54223072],\n",
       "       [0.51000589],\n",
       "       [0.47998823],\n",
       "       [0.47248381],\n",
       "       [0.46836374],\n",
       "       [0.47292525],\n",
       "       [0.48631548],\n",
       "       [0.50220718],\n",
       "       [0.51486168],\n",
       "       [0.52766333],\n",
       "       [0.54193643],\n",
       "       [0.5509123 ],\n",
       "       [0.55694526],\n",
       "       [0.56150677],\n",
       "       [0.56371395],\n",
       "       [0.56886404],\n",
       "       [0.57886992],\n",
       "       [0.58946439],\n",
       "       [0.60167746],\n",
       "       [0.61109476],\n",
       "       [0.61521483],\n",
       "       [0.61683343],\n",
       "       [0.61874632],\n",
       "       [0.62065921],\n",
       "       [0.62374926],\n",
       "       [0.62301354],\n",
       "       [0.61992348],\n",
       "       [0.6209535 ],\n",
       "       [0.62654503],\n",
       "       [0.62139494],\n",
       "       [0.61668629],\n",
       "       [0.60726898],\n",
       "       [0.5940259 ],\n",
       "       [0.57416127],\n",
       "       [0.5444379 ],\n",
       "       [0.5398764 ],\n",
       "       [0.53546204],\n",
       "       [0.53560918],\n",
       "       [0.51883461],\n",
       "       [0.5110359 ],\n",
       "       [0.51147734],\n",
       "       [0.51206592],\n",
       "       [0.49779282],\n",
       "       [0.48557975],\n",
       "       [0.48454974],\n",
       "       [0.48778693],\n",
       "       [0.48675692],\n",
       "       [0.48204826],\n",
       "       [0.47881107],\n",
       "       [0.43834609],\n",
       "       [0.41377281],\n",
       "       [0.41053561],\n",
       "       [0.40891701],\n",
       "       [0.40729841],\n",
       "       [0.4059741 ],\n",
       "       [0.40038258],\n",
       "       [0.39949971],\n",
       "       [0.40170689],\n",
       "       [0.40082401],\n",
       "       [0.39994114],\n",
       "       [0.40038258],\n",
       "       [0.40097116],\n",
       "       [0.40464979],\n",
       "       [0.41745144],\n",
       "       [0.42951736],\n",
       "       [0.4458505 ],\n",
       "       [0.45879929],\n",
       "       [0.47380812],\n",
       "       [0.48454974],\n",
       "       [0.49455562],\n",
       "       [0.5       ],\n",
       "       [0.50500294],\n",
       "       [0.51368452],\n",
       "       [0.52354326],\n",
       "       [0.53251913],\n",
       "       [0.54178929],\n",
       "       [0.54458505],\n",
       "       [0.54782225],\n",
       "       [0.5509123 ],\n",
       "       [0.55444379],\n",
       "       [0.55488523],\n",
       "       [0.55150088],\n",
       "       [0.54208358],\n",
       "       [0.52295468],\n",
       "       [0.51603885],\n",
       "       [0.52118893],\n",
       "       [0.53296057],\n",
       "       [0.54090642],\n",
       "       [0.54590936],\n",
       "       [0.54561507],\n",
       "       [0.54664509],\n",
       "       [0.5509123 ],\n",
       "       [0.56121248],\n",
       "       [0.58137139],\n",
       "       [0.60314891],\n",
       "       [0.61521483],\n",
       "       [0.62316068],\n",
       "       [0.62227781],\n",
       "       [0.59593879],\n",
       "       [0.58137139],\n",
       "       [0.58048852],\n",
       "       [0.58887581],\n",
       "       [0.600206  ],\n",
       "       [0.60682755],\n",
       "       [0.62963508],\n",
       "       [0.64405533],\n",
       "       [0.65361978],\n",
       "       [0.66539141],\n",
       "       [0.67392584],\n",
       "       [0.67642731],\n",
       "       [0.67598587],\n",
       "       [0.6767216 ],\n",
       "       [0.67554444],\n",
       "       [0.67407298],\n",
       "       [0.67083579],\n",
       "       [0.65832843],\n",
       "       [0.64479105],\n",
       "       [0.62860506],\n",
       "       [0.62992937],\n",
       "       [0.63758093],\n",
       "       [0.6465568 ],\n",
       "       [0.64552678],\n",
       "       [0.63051795],\n",
       "       [0.60903473],\n",
       "       [0.61006474],\n",
       "       [0.61183049],\n",
       "       [0.61227192],\n",
       "       [0.61035903],\n",
       "       [0.60197175],\n",
       "       [0.59181872],\n",
       "       [0.58166569],\n",
       "       [0.57931136],\n",
       "       [0.58387287],\n",
       "       [0.58534432],\n",
       "       [0.58784579],\n",
       "       [0.59696881],\n",
       "       [0.60800471],\n",
       "       [0.61550912],\n",
       "       [0.62080636],\n",
       "       [0.62889935],\n",
       "       [0.64640965],\n",
       "       [0.65685697],\n",
       "       [0.65715127],\n",
       "       [0.64626251],\n",
       "       [0.63198941],\n",
       "       [0.62978222],\n",
       "       [0.63022366],\n",
       "       [0.63051795],\n",
       "       [0.63802237],\n",
       "       [0.65773985],\n",
       "       [0.6689229 ],\n",
       "       [0.67569158],\n",
       "       [0.67010006],\n",
       "       [0.67245438],\n",
       "       [0.6734844 ],\n",
       "       [0.67377869],\n",
       "       [0.67657446],\n",
       "       [0.68143025],\n",
       "       [0.68790465],\n",
       "       [0.6958505 ],\n",
       "       [0.69864626],\n",
       "       [0.69923484],\n",
       "       [0.69702766],\n",
       "       [0.68143025],\n",
       "       [0.66715715],\n",
       "       [0.66333137],\n",
       "       [0.66068275],\n",
       "       [0.66156563],\n",
       "       [0.6624485 ],\n",
       "       [0.66539141],\n",
       "       [0.67319011],\n",
       "       [0.68201883],\n",
       "       [0.69496763],\n",
       "       [0.70644497],\n",
       "       [0.72189523],\n",
       "       [0.7373455 ],\n",
       "       [0.7610359 ],\n",
       "       [0.78531489],\n",
       "       [0.79782225],\n",
       "       [0.80047087],\n",
       "       [0.79031783],\n",
       "       [0.77942908],\n",
       "       [0.77001177],\n",
       "       [0.77633902],\n",
       "       [0.78369629],\n",
       "       [0.78413773],\n",
       "       [0.78472631],\n",
       "       [0.79178929],\n",
       "       [0.79723367],\n",
       "       [0.80311948],\n",
       "       [0.80885815],\n",
       "       [0.81739258],\n",
       "       [0.82445556],\n",
       "       [0.82960565],\n",
       "       [0.82960565],\n",
       "       [0.82062978],\n",
       "       [0.82313125],\n",
       "       [0.83284285],\n",
       "       [0.83534432],\n",
       "       [0.83034138],\n",
       "       [0.82254267],\n",
       "       [0.80532666],\n",
       "       [0.78266627],\n",
       "       [0.75868158],\n",
       "       [0.73705121],\n",
       "       [0.70865215],\n",
       "       [0.68878752],\n",
       "       [0.68275456],\n",
       "       [0.67642731]])"
      ]
     },
     "execution_count": 10,
     "metadata": {},
     "output_type": "execute_result"
    }
   ],
   "source": [
    "df4"
   ]
  },
  {
   "cell_type": "code",
   "execution_count": 11,
   "id": "1a123c80",
   "metadata": {
    "id": "1a123c80"
   },
   "outputs": [],
   "source": [
    "training_size=int(len(df4)*0.65)\n",
    "test_size=len(df4)-training_size\n",
    "train_data,test_data=df4[0:training_size,:],df4[training_size:len(df4),:1]"
   ]
  },
  {
   "cell_type": "code",
   "execution_count": 12,
   "id": "IQfKh3_yTwhE",
   "metadata": {
    "id": "IQfKh3_yTwhE"
   },
   "outputs": [
    {
     "data": {
      "text/plain": [
       "(284, 1)"
      ]
     },
     "execution_count": 12,
     "metadata": {},
     "output_type": "execute_result"
    }
   ],
   "source": [
    "train_data.shape\n",
    "test_data.shape"
   ]
  },
  {
   "attachments": {},
   "cell_type": "markdown",
   "id": "tYDEjWEoZauH",
   "metadata": {
    "id": "tYDEjWEoZauH"
   },
   "source": [
    "**Data Preprocessing**"
   ]
  },
  {
   "cell_type": "code",
   "execution_count": 13,
   "id": "0dc8a949",
   "metadata": {
    "id": "0dc8a949"
   },
   "outputs": [],
   "source": [
    " import numpy\n",
    "# convert an array of values into a dataset matrix\n",
    "def create_dataset(dataset, time_step=1):\n",
    "\tdataX, dataY = [], []\n",
    "\tfor i in range(len(dataset)-time_step-1):\n",
    "\t\ta = dataset[i:(i+time_step), 0]   ###i=0, 0,1,2,3-----99   100 \n",
    "\t\tdataX.append(a)\n",
    "\t\tdataY.append(dataset[i + time_step, 0])\n",
    "\treturn numpy.array(dataX), numpy.array(dataY)"
   ]
  },
  {
   "cell_type": "code",
   "execution_count": 14,
   "id": "39785275",
   "metadata": {
    "id": "39785275"
   },
   "outputs": [],
   "source": [
    "# reshape into X=t,t+1,t+2,t+3 and Y=t+4\n",
    "time_step = 100\n",
    "X_train, y_train = create_dataset(train_data, time_step)\n",
    "X_test, ytest = create_dataset(test_data, time_step)"
   ]
  },
  {
   "cell_type": "code",
   "execution_count": 15,
   "id": "mLHLpdmpcBlC",
   "metadata": {
    "id": "mLHLpdmpcBlC"
   },
   "outputs": [
    {
     "data": {
      "text/plain": [
       "array([[0.00559152, 0.00382578, 0.00309005, ..., 0.16627428, 0.16524426,\n",
       "        0.1640671 ],\n",
       "       [0.00382578, 0.00309005, 0.00206004, ..., 0.16524426, 0.1640671 ,\n",
       "        0.16274279],\n",
       "       [0.00309005, 0.00206004, 0.00103002, ..., 0.1640671 , 0.16274279,\n",
       "        0.15538552],\n",
       "       ...,\n",
       "       [0.91024132, 0.91597999, 0.90847557, ..., 0.88419659, 0.88655091,\n",
       "        0.88743378],\n",
       "       [0.91597999, 0.90847557, 0.88802237, ..., 0.88655091, 0.88743378,\n",
       "        0.87154208],\n",
       "       [0.90847557, 0.88802237, 0.88449088, ..., 0.88743378, 0.87154208,\n",
       "        0.87639788]])"
      ]
     },
     "execution_count": 15,
     "metadata": {},
     "output_type": "execute_result"
    }
   ],
   "source": [
    "X_train"
   ]
  },
  {
   "cell_type": "code",
   "execution_count": 16,
   "id": "8o7UzuZEcFhl",
   "metadata": {
    "id": "8o7UzuZEcFhl"
   },
   "outputs": [
    {
     "data": {
      "text/plain": [
       "array([0.16274279, 0.15538552, 0.14670394, 0.14420247, 0.15862272,\n",
       "       0.16642142, 0.18422602, 0.19540906, 0.19894055, 0.21100647,\n",
       "       0.21762802, 0.22130665, 0.22748676, 0.2405827 , 0.24367275,\n",
       "       0.2532372 , 0.29664509, 0.30694526, 0.29723367, 0.28134197,\n",
       "       0.28399058, 0.29487934, 0.29326074, 0.283402  , 0.26868746,\n",
       "       0.24014126, 0.21188935, 0.19334903, 0.19334903, 0.19114185,\n",
       "       0.19643908, 0.20114773, 0.20335491, 0.21115362, 0.21777516,\n",
       "       0.22572101, 0.23057681, 0.22836963, 0.22719247, 0.22645674,\n",
       "       0.2230724 , 0.22572101, 0.23513832, 0.24941142, 0.25853443,\n",
       "       0.27310182, 0.29458505, 0.31106533, 0.32254267, 0.32739847,\n",
       "       0.32636845, 0.32210124, 0.31121248, 0.30944673, 0.31312537,\n",
       "       0.31238964, 0.30547381, 0.30988817, 0.31606828, 0.33357858,\n",
       "       0.34682166, 0.34755739, 0.35079459, 0.34741024, 0.316804  ,\n",
       "       0.29708652, 0.27472042, 0.25412007, 0.22910536, 0.20585639,\n",
       "       0.18746321, 0.18231313, 0.17216009, 0.16965862, 0.16759859,\n",
       "       0.16671572, 0.16597999, 0.1656857 , 0.16553855, 0.19467334,\n",
       "       0.19849912, 0.20144202, 0.2007063 , 0.19791054, 0.18967039,\n",
       "       0.17760447, 0.16848146, 0.16789288, 0.17525015, 0.18231313,\n",
       "       0.18922896, 0.1990877 , 0.20997646, 0.216598  , 0.22233667,\n",
       "       0.23925839, 0.24970571, 0.26162448, 0.27545615, 0.28310771,\n",
       "       0.29752796, 0.30694526, 0.31636257, 0.32298411, 0.3281342 ,\n",
       "       0.32960565, 0.32886992, 0.32857563, 0.32592702, 0.32357269,\n",
       "       0.32371984, 0.32401413, 0.32357269, 0.32283696, 0.32062978,\n",
       "       0.31047675, 0.30591524, 0.30297234, 0.30047087, 0.30076516,\n",
       "       0.30459094, 0.32636845, 0.33740436, 0.33814008, 0.3472631 ,\n",
       "       0.35388464, 0.37007063, 0.39037669, 0.4011183 , 0.4108299 ,\n",
       "       0.41745144, 0.41877575, 0.41774573, 0.41671572, 0.41862861,\n",
       "       0.42907593, 0.43569747, 0.44158328, 0.44158328, 0.43878752,\n",
       "       0.43349029, 0.43393172, 0.44791054, 0.45659211, 0.46718658,\n",
       "       0.47380812, 0.48101825, 0.48396115, 0.48602119, 0.49146557,\n",
       "       0.50559152, 0.51927604, 0.53104768, 0.54193643, 0.57018835,\n",
       "       0.59711595, 0.61536198, 0.62757504, 0.63978811, 0.65082401,\n",
       "       0.65670983, 0.66318423, 0.66553855, 0.66494997, 0.62831077,\n",
       "       0.60108888, 0.5843143 , 0.55929959, 0.55635668, 0.5590053 ,\n",
       "       0.56415539, 0.5635668 , 0.53855209, 0.52442613, 0.51854032,\n",
       "       0.48307828, 0.41862861, 0.35918187, 0.34123014, 0.31901118,\n",
       "       0.30341377, 0.27339612, 0.25397293, 0.23469688, 0.21865803,\n",
       "       0.20306062, 0.19320188, 0.16494997, 0.17377869, 0.17628016,\n",
       "       0.19437905, 0.2052678 , 0.22174809, 0.2341083 , 0.23719835,\n",
       "       0.23646263, 0.23454974, 0.23469688, 0.23469688, 0.25220718,\n",
       "       0.28708064, 0.29281931, 0.30032372, 0.30782813, 0.31474397,\n",
       "       0.32931136, 0.34329017, 0.36330194, 0.37051207, 0.38816951,\n",
       "       0.40862272, 0.42083579, 0.42804591, 0.43201883, 0.42039435,\n",
       "       0.41215421, 0.41141848, 0.41421424, 0.42377869, 0.4377575 ,\n",
       "       0.44864626, 0.45467922, 0.48028252, 0.47410241, 0.46718658,\n",
       "       0.45953502, 0.45114773, 0.44879341, 0.45423779, 0.47895821,\n",
       "       0.48881695, 0.49867569, 0.50426722, 0.50794585, 0.50882872,\n",
       "       0.50662154, 0.50456151, 0.48940553, 0.4889641 , 0.51692172,\n",
       "       0.53722778, 0.55017657, 0.5541495 , 0.55473808, 0.55532666,\n",
       "       0.55444379, 0.54958799, 0.5622425 , 0.58122425, 0.60697469,\n",
       "       0.62360212, 0.63375515, 0.66333137, 0.67289582, 0.68187169,\n",
       "       0.68834609, 0.69114185, 0.69305474, 0.69290759, 0.67274868,\n",
       "       0.65229547, 0.64729253, 0.64243673, 0.64140671, 0.64258387,\n",
       "       0.64302531, 0.63537375, 0.6274279 , 0.62389641, 0.62242496,\n",
       "       0.62007063, 0.61992348, 0.60962331, 0.59991171, 0.59417304,\n",
       "       0.59520306, 0.60108888, 0.60594467, 0.61506769, 0.62639788,\n",
       "       0.63375515, 0.64052384, 0.64699823, 0.65420836, 0.65612125,\n",
       "       0.65891701, 0.66215421, 0.68172454, 0.69849912, 0.70776928,\n",
       "       0.7243967 , 0.7451442 , 0.78266627, 0.78958211, 0.79664509,\n",
       "       0.79958799, 0.8009123 , 0.80223661, 0.80503237, 0.816804  ,\n",
       "       0.83975868, 0.85300177, 0.86668629, 0.85682755, 0.86227192,\n",
       "       0.87507357, 0.89537964, 0.90361978, 0.91347852, 0.92466157,\n",
       "       0.91509712, 0.9108299 , 0.90288405, 0.90361978, 0.90715127,\n",
       "       0.90965274, 0.89243673, 0.87139494, 0.88243084, 0.89405533,\n",
       "       0.90420836, 0.91024132, 0.91597999, 0.90847557, 0.88802237,\n",
       "       0.88449088, 0.88890524, 0.89449676, 0.90038258, 0.90406121,\n",
       "       0.89479105, 0.88669806, 0.88699235, 0.88949382, 0.89052384,\n",
       "       0.88581519, 0.87507357, 0.87065921, 0.86756916, 0.86183049,\n",
       "       0.85815185, 0.85756327, 0.85638611, 0.85623896, 0.86035903,\n",
       "       0.8693349 , 0.87566215, 0.88125368, 0.88346086, 0.89302531,\n",
       "       0.89758682, 0.91230135, 0.9283402 , 0.93716892, 0.95276633,\n",
       "       0.96041789, 0.98263685, 0.99705709, 1.        , 0.99396704,\n",
       "       0.98278399, 0.97012949, 0.94290759, 0.90582696, 0.8852266 ,\n",
       "       0.8806651 , 0.87492643, 0.850206  , 0.84373161, 0.82828134,\n",
       "       0.83652148, 0.84284873, 0.8534432 , 0.86183049, 0.87080636,\n",
       "       0.88375515, 0.90509123, 0.92539729, 0.93908181, 0.95203061,\n",
       "       0.95953502, 0.96130077, 0.94496763, 0.94217187, 0.94379046,\n",
       "       0.94290759, 0.92363155, 0.91553855, 0.89582107, 0.88802237,\n",
       "       0.88537375, 0.86580341, 0.85844614, 0.85005886, 0.84961742,\n",
       "       0.84917599, 0.84829311, 0.85035315, 0.8534432 , 0.86433196,\n",
       "       0.88537375, 0.9027369 , 0.9218658 , 0.94599765, 0.96027075,\n",
       "       0.96806945, 0.93246027, 0.92525015, 0.9283402 , 0.92848735,\n",
       "       0.92554444, 0.90450265, 0.88949382, 0.87124779, 0.86683343,\n",
       "       0.86756916, 0.87448499, 0.88037081, 0.88419659, 0.88655091,\n",
       "       0.88743378, 0.87154208, 0.87639788, 0.89376104])"
      ]
     },
     "execution_count": 16,
     "metadata": {},
     "output_type": "execute_result"
    }
   ],
   "source": [
    "y_train"
   ]
  },
  {
   "cell_type": "code",
   "execution_count": 17,
   "id": "005e586d",
   "metadata": {
    "id": "005e586d"
   },
   "outputs": [
    {
     "name": "stdout",
     "output_type": "stream",
     "text": [
      "(424, 100)\n",
      "(424,)\n"
     ]
    },
    {
     "data": {
      "text/plain": [
       "(None, None)"
      ]
     },
     "execution_count": 17,
     "metadata": {},
     "output_type": "execute_result"
    }
   ],
   "source": [
    "print(X_train.shape), print(y_train.shape)"
   ]
  },
  {
   "attachments": {},
   "cell_type": "markdown",
   "id": "bJLSlRVajL9P",
   "metadata": {
    "id": "bJLSlRVajL9P"
   },
   "source": [
    "### LSTM "
   ]
  },
  {
   "cell_type": "code",
   "execution_count": 18,
   "id": "5a9aae2a",
   "metadata": {
    "id": "5a9aae2a"
   },
   "outputs": [],
   "source": [
    "X_train =X_train.reshape(X_train.shape[0],X_train.shape[1] , 1)\n",
    "X_test = X_test.reshape(X_test.shape[0],X_test.shape[1] , 1)"
   ]
  },
  {
   "cell_type": "code",
   "execution_count": 19,
   "id": "869c9a75",
   "metadata": {
    "id": "869c9a75"
   },
   "outputs": [],
   "source": [
    "from tensorflow.keras.models import Sequential\n",
    "\n",
    "from tensorflow.keras.layers import Dense\n",
    "from tensorflow.keras.layers import LSTM\n",
    "model=Sequential()\n",
    "model.add(LSTM(50,return_sequences=True,input_shape=(100,1)))\n",
    "model.add(LSTM(50,return_sequences=True))\n",
    "model.add(LSTM(50))\n",
    "model.add(Dense(1))\n",
    "model.compile(loss='mean_squared_error',optimizer='adam')"
   ]
  },
  {
   "cell_type": "code",
   "execution_count": 21,
   "id": "baa8cd08",
   "metadata": {
    "id": "baa8cd08"
   },
   "outputs": [
    {
     "name": "stdout",
     "output_type": "stream",
     "text": [
      "Epoch 1/10\n",
      "7/7 [==============================] - 1s 172ms/step - loss: 0.1365 - val_loss: 0.0748\n",
      "Epoch 2/10\n",
      "7/7 [==============================] - 0s 32ms/step - loss: 0.0320 - val_loss: 0.0154\n",
      "Epoch 3/10\n",
      "7/7 [==============================] - 0s 29ms/step - loss: 0.0214 - val_loss: 0.0042\n",
      "Epoch 4/10\n",
      "7/7 [==============================] - 0s 26ms/step - loss: 0.0106 - val_loss: 0.0085\n",
      "Epoch 5/10\n",
      "7/7 [==============================] - 0s 27ms/step - loss: 0.0088 - val_loss: 0.0040\n",
      "Epoch 6/10\n",
      "7/7 [==============================] - 0s 28ms/step - loss: 0.0074 - val_loss: 0.0049\n",
      "Epoch 7/10\n",
      "7/7 [==============================] - 0s 28ms/step - loss: 0.0067 - val_loss: 0.0032\n",
      "Epoch 8/10\n",
      "7/7 [==============================] - 0s 27ms/step - loss: 0.0063 - val_loss: 0.0035\n",
      "Epoch 9/10\n",
      "7/7 [==============================] - 0s 27ms/step - loss: 0.0062 - val_loss: 0.0031\n",
      "Epoch 10/10\n",
      "7/7 [==============================] - 0s 32ms/step - loss: 0.0061 - val_loss: 0.0031\n"
     ]
    },
    {
     "data": {
      "text/plain": [
       "<tensorflow.python.keras.callbacks.History at 0x1c575c77bb0>"
      ]
     },
     "execution_count": 21,
     "metadata": {},
     "output_type": "execute_result"
    }
   ],
   "source": [
    "model.fit(X_train,y_train,validation_data=(X_test,ytest),epochs=10,batch_size=64,verbose=1)"
   ]
  },
  {
   "cell_type": "code",
   "execution_count": 22,
   "id": "62dabcc0",
   "metadata": {
    "id": "62dabcc0"
   },
   "outputs": [],
   "source": [
    "### Lets Do the prediction and check performance metrics\n",
    "train_predict=model.predict(X_train)\n",
    "test_predict=model.predict(X_test)"
   ]
  },
  {
   "cell_type": "code",
   "execution_count": 23,
   "id": "b9fccd41",
   "metadata": {
    "id": "b9fccd41"
   },
   "outputs": [],
   "source": [
    "##Transformback to original form\n",
    "train_predict=scaler.inverse_transform(train_predict)\n",
    "test_predict=scaler.inverse_transform(test_predict)"
   ]
  },
  {
   "cell_type": "code",
   "execution_count": 24,
   "id": "be5b24de",
   "metadata": {
    "id": "be5b24de"
   },
   "outputs": [
    {
     "data": {
      "image/png": "[encoded data removed]",
      "text/plain": [
       "<Figure size 640x480 with 1 Axes>"
      ]
     },
     "metadata": {},
     "output_type": "display_data"
    }
   ],
   "source": [
    "### Plotting \n",
    "# shift train predictions for plotting\n",
    "look_back=100\n",
    "trainPredictPlot = numpy.empty_like(df4)\n",
    "trainPredictPlot[:, :] = np.nan\n",
    "trainPredictPlot[look_back:len(train_predict)+look_back, :] = train_predict\n",
    "# shift test predictions for plotting\n",
    "testPredictPlot = numpy.empty_like(df4)\n",
    "testPredictPlot[:, :] = numpy.nan\n",
    "testPredictPlot[len(train_predict)+(look_back*2)+1:len(df4)-1, :] = test_predict\n",
    "# plot baseline and predictions\n",
    "plt.plot(scaler.inverse_transform(df4))\n",
    "plt.plot(trainPredictPlot)\n",
    "plt.plot(testPredictPlot)\n",
    "plt.show()"
   ]
  },
  {
   "cell_type": "code",
   "execution_count": 25,
   "id": "7b036aac",
   "metadata": {
    "id": "7b036aac"
   },
   "outputs": [
    {
     "data": {
      "text/html": [
       "<div>\n",
       "<style scoped>\n",
       "    .dataframe tbody tr th:only-of-type {\n",
       "        vertical-align: middle;\n",
       "    }\n",
       "\n",
       "    .dataframe tbody tr th {\n",
       "        vertical-align: top;\n",
       "    }\n",
       "\n",
       "    .dataframe thead th {\n",
       "        text-align: right;\n",
       "    }\n",
       "</style>\n",
       "<table border=\"1\" class=\"dataframe\">\n",
       "  <thead>\n",
       "    <tr style=\"text-align: right;\">\n",
       "      <th></th>\n",
       "      <th>Date</th>\n",
       "      <th>Prediction</th>\n",
       "    </tr>\n",
       "  </thead>\n",
       "  <tbody>\n",
       "    <tr>\n",
       "      <th>0</th>\n",
       "      <td>1/1/2019</td>\n",
       "      <td>NaN</td>\n",
       "    </tr>\n",
       "    <tr>\n",
       "      <th>1</th>\n",
       "      <td>1/2/2019</td>\n",
       "      <td>NaN</td>\n",
       "    </tr>\n",
       "    <tr>\n",
       "      <th>2</th>\n",
       "      <td>1/3/2019</td>\n",
       "      <td>NaN</td>\n",
       "    </tr>\n",
       "    <tr>\n",
       "      <th>3</th>\n",
       "      <td>1/4/2019</td>\n",
       "      <td>NaN</td>\n",
       "    </tr>\n",
       "    <tr>\n",
       "      <th>4</th>\n",
       "      <td>1/5/2019</td>\n",
       "      <td>NaN</td>\n",
       "    </tr>\n",
       "  </tbody>\n",
       "</table>\n",
       "</div>"
      ],
      "text/plain": [
       "       Date  Prediction\n",
       "0  1/1/2019         NaN\n",
       "1  1/2/2019         NaN\n",
       "2  1/3/2019         NaN\n",
       "3  1/4/2019         NaN\n",
       "4  1/5/2019         NaN"
      ]
     },
     "execution_count": 25,
     "metadata": {},
     "output_type": "execute_result"
    }
   ],
   "source": [
    "df_test=pd.read_csv(\"test_data.csv\")\n",
    "df_test.head()"
   ]
  },
  {
   "cell_type": "code",
   "execution_count": 26,
   "id": "00d514c6",
   "metadata": {
    "id": "00d514c6"
   },
   "outputs": [
    {
     "name": "stderr",
     "output_type": "stream",
     "text": [
      "WARNING:absl:Found untraced functions such as lstm_cell_layer_call_and_return_conditional_losses, lstm_cell_layer_call_fn, lstm_cell_1_layer_call_and_return_conditional_losses, lstm_cell_1_layer_call_fn, lstm_cell_2_layer_call_and_return_conditional_losses while saving (showing 5 of 15). These functions will not be directly callable after loading.\n"
     ]
    },
    {
     "name": "stdout",
     "output_type": "stream",
     "text": [
      "INFO:tensorflow:Assets written to: prtrol price prediction\\assets\n"
     ]
    },
    {
     "name": "stderr",
     "output_type": "stream",
     "text": [
      "INFO:tensorflow:Assets written to: prtrol price prediction\\assets\n"
     ]
    }
   ],
   "source": [
    "model.save(\"prtrol price prediction\")"
   ]
  },
  {
   "attachments": {},
   "cell_type": "markdown",
   "id": "hpAqppG-OFe7",
   "metadata": {
    "id": "hpAqppG-OFe7"
   },
   "source": [
    "### **Using ARIMA**"
   ]
  },
  {
   "cell_type": "code",
   "execution_count": 4,
   "id": "RZPU8JPWnZSy",
   "metadata": {
    "id": "RZPU8JPWnZSy"
   },
   "outputs": [],
   "source": [
    "# !pip install --upgrade patsy"
   ]
  },
  {
   "cell_type": "code",
   "execution_count": 5,
   "id": "gD6Y2IDNl0os",
   "metadata": {
    "id": "gD6Y2IDNl0os"
   },
   "outputs": [],
   "source": [
    "# !pip install statsmodels"
   ]
  },
  {
   "cell_type": "code",
   "execution_count": 6,
   "id": "Y5dPBU9Enk85",
   "metadata": {
    "id": "Y5dPBU9Enk85"
   },
   "outputs": [],
   "source": [
    "# !pip install --upgrade --no-deps statsmodels"
   ]
  },
  {
   "cell_type": "code",
   "execution_count": 7,
   "id": "ajeghoPZDx7C",
   "metadata": {
    "id": "ajeghoPZDx7C"
   },
   "outputs": [],
   "source": [
    "import pandas as pd\n",
    "from statsmodels.tsa.arima.model import ARIMA\n",
    "from matplotlib import pyplot as plt\n",
    "from pandas import read_csv\n",
    "from pandas import datetime \n",
    "from matplotlib import pyplot\n",
    "\n",
    "from sklearn.metrics import mean_squared_error\n",
    "\n",
    "from math import sqrt"
   ]
  },
  {
   "cell_type": "code",
   "execution_count": 31,
   "id": "ZWaJ03yno2SX",
   "metadata": {
    "id": "ZWaJ03yno2SX"
   },
   "outputs": [
    {
     "data": {
      "text/html": [
       "<div>\n",
       "<style scoped>\n",
       "    .dataframe tbody tr th:only-of-type {\n",
       "        vertical-align: middle;\n",
       "    }\n",
       "\n",
       "    .dataframe tbody tr th {\n",
       "        vertical-align: top;\n",
       "    }\n",
       "\n",
       "    .dataframe thead th {\n",
       "        text-align: right;\n",
       "    }\n",
       "</style>\n",
       "<table border=\"1\" class=\"dataframe\">\n",
       "  <thead>\n",
       "    <tr style=\"text-align: right;\">\n",
       "      <th></th>\n",
       "      <th>Date</th>\n",
       "      <th>Petrol (USD)</th>\n",
       "    </tr>\n",
       "  </thead>\n",
       "  <tbody>\n",
       "    <tr>\n",
       "      <th>0</th>\n",
       "      <td>6/9/2003</td>\n",
       "      <td>74.59</td>\n",
       "    </tr>\n",
       "    <tr>\n",
       "      <th>1</th>\n",
       "      <td>6/16/2003</td>\n",
       "      <td>74.47</td>\n",
       "    </tr>\n",
       "    <tr>\n",
       "      <th>2</th>\n",
       "      <td>6/23/2003</td>\n",
       "      <td>74.42</td>\n",
       "    </tr>\n",
       "    <tr>\n",
       "      <th>3</th>\n",
       "      <td>6/30/2003</td>\n",
       "      <td>74.35</td>\n",
       "    </tr>\n",
       "    <tr>\n",
       "      <th>4</th>\n",
       "      <td>7/7/2003</td>\n",
       "      <td>74.28</td>\n",
       "    </tr>\n",
       "  </tbody>\n",
       "</table>\n",
       "</div>"
      ],
      "text/plain": [
       "        Date  Petrol (USD)\n",
       "0   6/9/2003         74.59\n",
       "1  6/16/2003         74.47\n",
       "2  6/23/2003         74.42\n",
       "3  6/30/2003         74.35\n",
       "4   7/7/2003         74.28"
      ]
     },
     "execution_count": 31,
     "metadata": {},
     "output_type": "execute_result"
    }
   ],
   "source": [
    "df = pd.read_csv(\"train_data.csv\")\n",
    "df.head()"
   ]
  },
  {
   "cell_type": "code",
   "execution_count": 32,
   "id": "9iVm6Jl1pruM",
   "metadata": {
    "id": "9iVm6Jl1pruM"
   },
   "outputs": [
    {
     "data": {
      "text/html": [
       "<div>\n",
       "<style scoped>\n",
       "    .dataframe tbody tr th:only-of-type {\n",
       "        vertical-align: middle;\n",
       "    }\n",
       "\n",
       "    .dataframe tbody tr th {\n",
       "        vertical-align: top;\n",
       "    }\n",
       "\n",
       "    .dataframe thead th {\n",
       "        text-align: right;\n",
       "    }\n",
       "</style>\n",
       "<table border=\"1\" class=\"dataframe\">\n",
       "  <thead>\n",
       "    <tr style=\"text-align: right;\">\n",
       "      <th></th>\n",
       "      <th>Date</th>\n",
       "      <th>Petrol</th>\n",
       "    </tr>\n",
       "  </thead>\n",
       "  <tbody>\n",
       "    <tr>\n",
       "      <th>0</th>\n",
       "      <td>6/9/2003</td>\n",
       "      <td>74.59</td>\n",
       "    </tr>\n",
       "    <tr>\n",
       "      <th>1</th>\n",
       "      <td>6/16/2003</td>\n",
       "      <td>74.47</td>\n",
       "    </tr>\n",
       "    <tr>\n",
       "      <th>2</th>\n",
       "      <td>6/23/2003</td>\n",
       "      <td>74.42</td>\n",
       "    </tr>\n",
       "    <tr>\n",
       "      <th>3</th>\n",
       "      <td>6/30/2003</td>\n",
       "      <td>74.35</td>\n",
       "    </tr>\n",
       "    <tr>\n",
       "      <th>4</th>\n",
       "      <td>7/7/2003</td>\n",
       "      <td>74.28</td>\n",
       "    </tr>\n",
       "  </tbody>\n",
       "</table>\n",
       "</div>"
      ],
      "text/plain": [
       "        Date  Petrol\n",
       "0   6/9/2003   74.59\n",
       "1  6/16/2003   74.47\n",
       "2  6/23/2003   74.42\n",
       "3  6/30/2003   74.35\n",
       "4   7/7/2003   74.28"
      ]
     },
     "execution_count": 32,
     "metadata": {},
     "output_type": "execute_result"
    }
   ],
   "source": [
    "df.rename(columns={\"Petrol (USD)\": \"Petrol\"}, inplace = True)\n",
    "df.head()"
   ]
  },
  {
   "cell_type": "code",
   "execution_count": 33,
   "id": "nCDqO0KUD2Tq",
   "metadata": {
    "id": "nCDqO0KUD2Tq"
   },
   "outputs": [
    {
     "data": {
      "text/html": [
       "<div>\n",
       "<style scoped>\n",
       "    .dataframe tbody tr th:only-of-type {\n",
       "        vertical-align: middle;\n",
       "    }\n",
       "\n",
       "    .dataframe tbody tr th {\n",
       "        vertical-align: top;\n",
       "    }\n",
       "\n",
       "    .dataframe thead th {\n",
       "        text-align: right;\n",
       "    }\n",
       "</style>\n",
       "<table border=\"1\" class=\"dataframe\">\n",
       "  <thead>\n",
       "    <tr style=\"text-align: right;\">\n",
       "      <th></th>\n",
       "      <th>Date</th>\n",
       "      <th>Petrol</th>\n",
       "    </tr>\n",
       "  </thead>\n",
       "  <tbody>\n",
       "    <tr>\n",
       "      <th>0</th>\n",
       "      <td>6/9/2003</td>\n",
       "      <td>74.59</td>\n",
       "    </tr>\n",
       "    <tr>\n",
       "      <th>1</th>\n",
       "      <td>6/16/2003</td>\n",
       "      <td>74.47</td>\n",
       "    </tr>\n",
       "    <tr>\n",
       "      <th>2</th>\n",
       "      <td>6/23/2003</td>\n",
       "      <td>74.42</td>\n",
       "    </tr>\n",
       "    <tr>\n",
       "      <th>3</th>\n",
       "      <td>6/30/2003</td>\n",
       "      <td>74.35</td>\n",
       "    </tr>\n",
       "    <tr>\n",
       "      <th>4</th>\n",
       "      <td>7/7/2003</td>\n",
       "      <td>74.28</td>\n",
       "    </tr>\n",
       "  </tbody>\n",
       "</table>\n",
       "</div>"
      ],
      "text/plain": [
       "        Date  Petrol\n",
       "0   6/9/2003   74.59\n",
       "1  6/16/2003   74.47\n",
       "2  6/23/2003   74.42\n",
       "3  6/30/2003   74.35\n",
       "4   7/7/2003   74.28"
      ]
     },
     "execution_count": 33,
     "metadata": {},
     "output_type": "execute_result"
    }
   ],
   "source": [
    "df2 = df.dropna()\n",
    "df3=df2[df2.Petrol<160]\n",
    "df3.head()\n"
   ]
  },
  {
   "cell_type": "code",
   "execution_count": 34,
   "id": "rgmu2cLaqDCE",
   "metadata": {
    "id": "rgmu2cLaqDCE"
   },
   "outputs": [
    {
     "data": {
      "text/plain": [
       "0    74.59\n",
       "1    74.47\n",
       "2    74.42\n",
       "3    74.35\n",
       "4    74.28\n",
       "Name: Petrol, dtype: float64"
      ]
     },
     "execution_count": 34,
     "metadata": {},
     "output_type": "execute_result"
    }
   ],
   "source": [
    "df4=df3.reset_index()['Petrol']\n",
    "df4.head()"
   ]
  },
  {
   "cell_type": "code",
   "execution_count": 35,
   "id": "vks4TdPaD6OS",
   "metadata": {
    "id": "vks4TdPaD6OS"
   },
   "outputs": [
    {
     "data": {
      "text/plain": [
       "array([119.80670597, 119.52143349, 119.3063469 , 119.14818594,\n",
       "       119.0292548 , 118.93899202, 118.87071709, 118.81917614,\n",
       "       118.78030433, 118.75097704, 118.72884006, 118.71212995,\n",
       "       118.69951742, 118.68999816, 118.68281356, 118.67739093,\n",
       "       118.67329814, 118.67020907, 118.66787756, 118.66611783,\n",
       "       118.66478967, 118.66378722, 118.66303062, 118.66245956,\n",
       "       118.66202856, 118.66170325, 118.66145772, 118.66127241,\n",
       "       118.66113254, 118.66102697])"
      ]
     },
     "execution_count": 35,
     "metadata": {},
     "output_type": "execute_result"
    }
   ],
   "source": [
    "model1 = ARIMA(df4.values, order=(5,1,0))\n",
    "model_fit1 = model1.fit()\n",
    "output1= model_fit1.forecast(steps=30)\n",
    "output1"
   ]
  },
  {
   "attachments": {},
   "cell_type": "markdown",
   "id": "iVKwRTmDnxwd",
   "metadata": {
    "id": "iVKwRTmDnxwd"
   },
   "source": [
    "### Using Auto ML"
   ]
  },
  {
   "cell_type": "code",
   "execution_count": 2,
   "id": "dfe88bcc",
   "metadata": {
    "id": "dfe88bcc"
   },
   "outputs": [],
   "source": [
    "#!pip install git+https://github.com/keras-team/keras-tuner.git@1.0.2rc1\n"
   ]
  },
  {
   "cell_type": "code",
   "execution_count": null,
   "id": "jE_IvaIs1O3z",
   "metadata": {
    "id": "jE_IvaIs1O3z"
   },
   "outputs": [],
   "source": [
    "import numpy as np\n",
    "import pandas as pd\n",
    "import tensorflow as tf\n",
    "\n",
    "\n",
    "import autokeras as ak"
   ]
  },
  {
   "cell_type": "code",
   "execution_count": null,
   "id": "OdAi99490vlO",
   "metadata": {
    "id": "OdAi99490vlO"
   },
   "outputs": [],
   "source": [
    "reg = ak.StructuredDataRegressor(\n",
    "    overwrite=True, max_trials=3\n",
    ")"
   ]
  },
  {
   "cell_type": "code",
   "execution_count": null,
   "id": "yaD54ZIB05_N",
   "metadata": {
    "id": "yaD54ZIB05_N"
   },
   "outputs": [],
   "source": [
    "reg.fit(x=X_train, y=y_train, verbose=0)"
   ]
  },
  {
   "cell_type": "code",
   "execution_count": null,
   "id": "_EAR0zb41keP",
   "metadata": {
    "id": "_EAR0zb41keP"
   },
   "outputs": [],
   "source": [
    "\n",
    "# evaluate the model\n",
    "mae, _  = reg.evaluate(X_test, ytest, verbose=0)\n",
    "#print('MAE: %.3f' % mae)\n",
    "# use the model to make a prediction\n",
    "yhat_test = reg.predict(X_test)\n",
    "\n",
    "# get the best performing model\n",
    "model = reg.export_model()\n"
   ]
  },
  {
   "cell_type": "code",
   "execution_count": null,
   "id": "XFyX-Bur2SgJ",
   "metadata": {
    "id": "XFyX-Bur2SgJ"
   },
   "outputs": [],
   "source": [
    "# summarize the loaded model\n",
    "model.summary()"
   ]
  },
  {
   "cell_type": "code",
   "execution_count": null,
   "id": "VWny4-JW2pKW",
   "metadata": {
    "id": "VWny4-JW2pKW"
   },
   "outputs": [],
   "source": [
    "yhat_train= reg.predict(X_train)"
   ]
  },
  {
   "cell_type": "code",
   "execution_count": null,
   "id": "KIjUsMMz2r1Z",
   "metadata": {
    "id": "KIjUsMMz2r1Z"
   },
   "outputs": [],
   "source": [
    "train_predict=scaler.inverse_transform(yhat_train)\n",
    "test_predict=scaler.inverse_transform(yhat_test)"
   ]
  },
  {
   "cell_type": "code",
   "execution_count": null,
   "id": "0zK6AKcq3aZp",
   "metadata": {
    "id": "0zK6AKcq3aZp"
   },
   "outputs": [],
   "source": [
    "from sklearn.metrics import mean_squared_error"
   ]
  },
  {
   "cell_type": "code",
   "execution_count": null,
   "id": "4EknM_n43gSF",
   "metadata": {
    "id": "4EknM_n43gSF"
   },
   "outputs": [],
   "source": [
    "mean_squared_error(ytest,yhat_test)"
   ]
  },
  {
   "cell_type": "code",
   "execution_count": null,
   "id": "iQSmVcMGwWQc",
   "metadata": {
    "id": "iQSmVcMGwWQc"
   },
   "outputs": [],
   "source": [
    "mean_squared_error(y_train,yhat_train)"
   ]
  },
  {
   "cell_type": "code",
   "execution_count": null,
   "id": "3dI3AUtDwd-E",
   "metadata": {
    "id": "3dI3AUtDwd-E"
   },
   "outputs": [],
   "source": []
  }
 ],
 "metadata": {
  "colab": {
   "collapsed_sections": [],
   "name": "New petrol prediction.ipynb",
   "provenance": []
  },
  "kernelspec": {
   "display_name": "Python 3",
   "language": "python",
   "name": "python3"
  },
  "language_info": {
   "codemirror_mode": {
    "name": "ipython",
    "version": 3
   },
   "file_extension": ".py",
   "mimetype": "text/x-python",
   "name": "python",
   "nbconvert_exporter": "python",
   "pygments_lexer": "ipython3",
   "version": "3.9.16"
  }
 },
 "nbformat": 4,
 "nbformat_minor": 5
}
